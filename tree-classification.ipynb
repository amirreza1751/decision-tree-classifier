{
 "cells": [
  {
   "cell_type": "code",
   "execution_count": 1,
   "id": "20770d92",
   "metadata": {
    "execution": {
     "iopub.execute_input": "2024-12-18T20:31:51.081686Z",
     "iopub.status.busy": "2024-12-18T20:31:51.081283Z",
     "iopub.status.idle": "2024-12-18T20:32:03.920873Z",
     "shell.execute_reply": "2024-12-18T20:32:03.919559Z"
    },
    "papermill": {
     "duration": 12.849308,
     "end_time": "2024-12-18T20:32:03.923773",
     "exception": false,
     "start_time": "2024-12-18T20:31:51.074465",
     "status": "completed"
    },
    "tags": []
   },
   "outputs": [
    {
     "name": "stdout",
     "output_type": "stream",
     "text": [
      "Collecting ucimlrepo\r\n",
      "  Downloading ucimlrepo-0.0.7-py3-none-any.whl.metadata (5.5 kB)\r\n",
      "Requirement already satisfied: pandas>=1.0.0 in /opt/conda/lib/python3.10/site-packages (from ucimlrepo) (2.2.3)\r\n",
      "Requirement already satisfied: certifi>=2020.12.5 in /opt/conda/lib/python3.10/site-packages (from ucimlrepo) (2024.8.30)\r\n",
      "Requirement already satisfied: numpy>=1.22.4 in /opt/conda/lib/python3.10/site-packages (from pandas>=1.0.0->ucimlrepo) (1.26.4)\r\n",
      "Requirement already satisfied: python-dateutil>=2.8.2 in /opt/conda/lib/python3.10/site-packages (from pandas>=1.0.0->ucimlrepo) (2.9.0.post0)\r\n",
      "Requirement already satisfied: pytz>=2020.1 in /opt/conda/lib/python3.10/site-packages (from pandas>=1.0.0->ucimlrepo) (2024.1)\r\n",
      "Requirement already satisfied: tzdata>=2022.7 in /opt/conda/lib/python3.10/site-packages (from pandas>=1.0.0->ucimlrepo) (2024.1)\r\n",
      "Requirement already satisfied: six>=1.5 in /opt/conda/lib/python3.10/site-packages (from python-dateutil>=2.8.2->pandas>=1.0.0->ucimlrepo) (1.16.0)\r\n",
      "Downloading ucimlrepo-0.0.7-py3-none-any.whl (8.0 kB)\r\n",
      "Installing collected packages: ucimlrepo\r\n",
      "Successfully installed ucimlrepo-0.0.7\r\n"
     ]
    }
   ],
   "source": [
    "!pip install ucimlrepo"
   ]
  },
  {
   "cell_type": "code",
   "execution_count": 2,
   "id": "c9c3a164",
   "metadata": {
    "execution": {
     "iopub.execute_input": "2024-12-18T20:32:03.934077Z",
     "iopub.status.busy": "2024-12-18T20:32:03.933658Z",
     "iopub.status.idle": "2024-12-18T20:32:03.940361Z",
     "shell.execute_reply": "2024-12-18T20:32:03.939129Z"
    },
    "papermill": {
     "duration": 0.014395,
     "end_time": "2024-12-18T20:32:03.942486",
     "exception": false,
     "start_time": "2024-12-18T20:32:03.928091",
     "status": "completed"
    },
    "tags": []
   },
   "outputs": [],
   "source": [
    "config = {\n",
    "    \"create_sample_dataset\": False, #True: creates a small sample of the dataset. False: doesn't.\n",
    "    \"fraction\": 1/1000, #Chooses the required fraction to make the sample.\n",
    "    \"null_threshold\": 0.1, #Useful for dropping features which have null values more than the threshold.\n",
    "    \"imbalance_threshold\": 0.8, #an indicator that is used to see whether the labels are imbalanced.\n",
    "    \n",
    "    \"max_depth\": 14, #(stopping criteria)\n",
    "    \"min_samples_split\": 5, #(stopping criteria)\n",
    "    \"min_impurity_decrease\": 0.01, #(stopping criteria)\n",
    "    \"criterion\": \"entropy\", #(expansion criteria) [\"gini\", \"entropy\"]\n",
    "    \n",
    "    \"do_cross_validation\": False\n",
    "}"
   ]
  },
  {
   "cell_type": "code",
   "execution_count": 3,
   "id": "57ddcaf3",
   "metadata": {
    "execution": {
     "iopub.execute_input": "2024-12-18T20:32:03.952173Z",
     "iopub.status.busy": "2024-12-18T20:32:03.951784Z",
     "iopub.status.idle": "2024-12-18T20:32:08.169956Z",
     "shell.execute_reply": "2024-12-18T20:32:08.168538Z"
    },
    "papermill": {
     "duration": 4.225876,
     "end_time": "2024-12-18T20:32:08.172421",
     "exception": false,
     "start_time": "2024-12-18T20:32:03.946545",
     "status": "completed"
    },
    "tags": []
   },
   "outputs": [
    {
     "name": "stdout",
     "output_type": "stream",
     "text": [
      "<class 'pandas.core.frame.DataFrame'>\n",
      "RangeIndex: 61069 entries, 0 to 61068\n",
      "Data columns (total 21 columns):\n",
      " #   Column                Non-Null Count  Dtype  \n",
      "---  ------                --------------  -----  \n",
      " 0   cap-diameter          61069 non-null  float64\n",
      " 1   cap-shape             61069 non-null  object \n",
      " 2   cap-surface           46949 non-null  object \n",
      " 3   cap-color             61069 non-null  object \n",
      " 4   does-bruise-or-bleed  61069 non-null  object \n",
      " 5   gill-attachment       51185 non-null  object \n",
      " 6   gill-spacing          36006 non-null  object \n",
      " 7   gill-color            61069 non-null  object \n",
      " 8   stem-height           61069 non-null  float64\n",
      " 9   stem-width            61069 non-null  float64\n",
      " 10  stem-root             9531 non-null   object \n",
      " 11  stem-surface          22945 non-null  object \n",
      " 12  stem-color            61069 non-null  object \n",
      " 13  veil-type             3177 non-null   object \n",
      " 14  veil-color            7413 non-null   object \n",
      " 15  has-ring              61069 non-null  object \n",
      " 16  ring-type             58598 non-null  object \n",
      " 17  spore-print-color     6354 non-null   object \n",
      " 18  habitat               61069 non-null  object \n",
      " 19  season                61069 non-null  object \n",
      " 20  class                 61069 non-null  int64  \n",
      "dtypes: float64(3), int64(1), object(17)\n",
      "memory usage: 9.8+ MB\n",
      "None\n",
      "\n",
      "Features with more than 10.0% null values:\n",
      "Index(['cap-surface', 'gill-attachment', 'gill-spacing', 'stem-root',\n",
      "       'stem-surface', 'veil-type', 'veil-color', 'spore-print-color'],\n",
      "      dtype='object')\n",
      "<class 'pandas.core.frame.DataFrame'>\n",
      "RangeIndex: 58598 entries, 0 to 58597\n",
      "Data columns (total 13 columns):\n",
      " #   Column                Non-Null Count  Dtype  \n",
      "---  ------                --------------  -----  \n",
      " 0   cap-diameter          58598 non-null  float64\n",
      " 1   cap-shape             58598 non-null  object \n",
      " 2   cap-color             58598 non-null  object \n",
      " 3   does-bruise-or-bleed  58598 non-null  object \n",
      " 4   gill-color            58598 non-null  object \n",
      " 5   stem-height           58598 non-null  float64\n",
      " 6   stem-width            58598 non-null  float64\n",
      " 7   stem-color            58598 non-null  object \n",
      " 8   has-ring              58598 non-null  object \n",
      " 9   ring-type             58598 non-null  object \n",
      " 10  habitat               58598 non-null  object \n",
      " 11  season                58598 non-null  object \n",
      " 12  class                 58598 non-null  int64  \n",
      "dtypes: float64(3), int64(1), object(9)\n",
      "memory usage: 5.8+ MB\n",
      "None\n"
     ]
    }
   ],
   "source": [
    "from ucimlrepo import fetch_ucirepo\n",
    "import pandas as pd\n",
    "from itertools import chain, combinations\n",
    "from collections import Counter\n",
    "from sklearn.metrics import accuracy_score\n",
    "import numpy as np\n",
    "import matplotlib.pyplot as plt\n",
    "from sklearn.model_selection import KFold, train_test_split\n",
    "from sklearn.metrics import classification_report\n",
    "from itertools import combinations\n",
    "import random\n",
    "# Fetch the dataset\n",
    "secondary_mushroom = fetch_ucirepo(id=848)\n",
    "X = secondary_mushroom.data.features\n",
    "y = secondary_mushroom.data.targets[\"class\"].apply(lambda x: 1 if x == \"p\" else 0)\n",
    "data = pd.concat([X, y], axis=1)\n",
    "print(data.info())\n",
    "\n",
    "# Calculate the percentage of null values for each feature\n",
    "missing_ratios = data.isnull().mean()\n",
    "\n",
    "# Identify features with more than the threshold of null values\n",
    "features_to_drop = missing_ratios[missing_ratios > config[\"null_threshold\"]].index\n",
    "\n",
    "# Display features to drop\n",
    "print(f\"\\nFeatures with more than {config['null_threshold'] * 100}% null values:\")\n",
    "print(features_to_drop)\n",
    "\n",
    "# Drop those features\n",
    "data = data.drop(columns=features_to_drop)\n",
    "\n",
    "# Remove rows with any null values\n",
    "data = data.dropna()\n",
    "data.reset_index(drop=True, inplace=True)\n",
    "\n",
    "\n",
    "print(data.info())\n"
   ]
  },
  {
   "cell_type": "code",
   "execution_count": 4,
   "id": "f550d062",
   "metadata": {
    "execution": {
     "iopub.execute_input": "2024-12-18T20:32:08.182558Z",
     "iopub.status.busy": "2024-12-18T20:32:08.182105Z",
     "iopub.status.idle": "2024-12-18T20:32:09.266842Z",
     "shell.execute_reply": "2024-12-18T20:32:09.265456Z"
    },
    "papermill": {
     "duration": 1.092909,
     "end_time": "2024-12-18T20:32:09.269617",
     "exception": false,
     "start_time": "2024-12-18T20:32:08.176708",
     "status": "completed"
    },
    "tags": []
   },
   "outputs": [
    {
     "name": "stdout",
     "output_type": "stream",
     "text": [
      "data.shape (58598, 13)\n",
      "Class 0: 25769 samples (43.98%)\n",
      "Class 1: 32829 samples (56.02%)\n",
      "The dataset is not significantly imbalanced.\n"
     ]
    },
    {
     "data": {
      "image/png": "[encoded data removed]",
      "text/plain": [
       "<Figure size 640x480 with 1 Axes>"
      ]
     },
     "metadata": {},
     "output_type": "display_data"
    }
   ],
   "source": [
    "if config[\"create_sample_dataset\"] == True:\n",
    "    data = data.sample(frac=config[\"fraction\"], random_state=42)\n",
    "    data.reset_index(drop=True, inplace=True)\n",
    "\n",
    "print(\"data.shape\", data.shape)\n",
    "\n",
    "# Split back into X and y\n",
    "X = data.drop(columns=\"class\")\n",
    "y = data[[\"class\"]]\n",
    "\n",
    "\n",
    "# Check the class distribution\n",
    "unique_classes, class_counts = np.unique(y, return_counts=True)\n",
    "\n",
    "# Display class distribution\n",
    "for cls, count in zip(unique_classes, class_counts):\n",
    "    print(f\"Class {cls}: {count} samples ({count / len(y) * 100:.2f}%)\")\n",
    "\n",
    "# Calculate imbalance ratio\n",
    "if max(class_counts) / len(y) >= config[\"imbalance_threshold\"]:\n",
    "    print(f\"The dataset is imbalanced. The largest class makes up {imbalance_ratio * 100:.2f}% of the dataset.\")\n",
    "else:\n",
    "    print(\"The dataset is not significantly imbalanced.\")\n",
    "\n",
    "# Visualize class distribution\n",
    "plt.bar(unique_classes, class_counts, color='skyblue')\n",
    "plt.xlabel('Class Labels')\n",
    "plt.ylabel('Number of Samples')\n",
    "plt.title('Class Distribution')\n",
    "plt.savefig('class_distribution.png')\n",
    "plt.savefig('class_distribution.pdf')  \n",
    "plt.show()"
   ]
  },
  {
   "cell_type": "code",
   "execution_count": 5,
   "id": "0a25c97f",
   "metadata": {
    "execution": {
     "iopub.execute_input": "2024-12-18T20:32:09.281332Z",
     "iopub.status.busy": "2024-12-18T20:32:09.280667Z",
     "iopub.status.idle": "2024-12-18T20:32:09.340650Z",
     "shell.execute_reply": "2024-12-18T20:32:09.339233Z"
    },
    "papermill": {
     "duration": 0.068868,
     "end_time": "2024-12-18T20:32:09.343360",
     "exception": false,
     "start_time": "2024-12-18T20:32:09.274492",
     "status": "completed"
    },
    "tags": []
   },
   "outputs": [
    {
     "name": "stdout",
     "output_type": "stream",
     "text": [
      "Feature 'cap-shape' has 7 unique categories. ['x' 'f' 'p' 'b' 'c' 's' 'o']\n",
      "Feature 'cap-color' has 12 unique categories. ['o' 'e' 'n' 'g' 'r' 'w' 'y' 'p' 'u' 'b' 'l' 'k']\n",
      "Feature 'does-bruise-or-bleed' has 2 unique categories. ['f' 't']\n",
      "Feature 'gill-color' has 12 unique categories. ['w' 'n' 'p' 'u' 'b' 'g' 'y' 'r' 'e' 'o' 'k' 'f']\n",
      "Feature 'stem-color' has 13 unique categories. ['w' 'y' 'n' 'u' 'b' 'l' 'r' 'p' 'e' 'k' 'g' 'o' 'f']\n",
      "Feature 'has-ring' has 2 unique categories. ['t' 'f']\n",
      "Feature 'ring-type' has 8 unique categories. ['g' 'p' 'e' 'l' 'f' 'm' 'r' 'z']\n",
      "Feature 'habitat' has 8 unique categories. ['d' 'm' 'g' 'h' 'l' 'p' 'w' 'u']\n",
      "Feature 'season' has 4 unique categories. ['w' 'u' 'a' 's']\n",
      "Feature 'class' has 2 unique categories. [1 0]\n"
     ]
    }
   ],
   "source": [
    "#Showing the number of unique categories for each categorical feature\n",
    "for col in data.columns:\n",
    "    if not np.issubdtype(type(data[col].iloc[0]), np.float64):\n",
    "        unique_values = data[col].nunique()\n",
    "        print(f\"Feature '{col}' has {unique_values} unique categories.\", data[col].unique())\n"
   ]
  },
  {
   "cell_type": "code",
   "execution_count": 6,
   "id": "c48cde31",
   "metadata": {
    "execution": {
     "iopub.execute_input": "2024-12-18T20:32:09.354729Z",
     "iopub.status.busy": "2024-12-18T20:32:09.354333Z",
     "iopub.status.idle": "2024-12-18T20:32:09.375390Z",
     "shell.execute_reply": "2024-12-18T20:32:09.374179Z"
    },
    "papermill": {
     "duration": 0.02962,
     "end_time": "2024-12-18T20:32:09.377795",
     "exception": false,
     "start_time": "2024-12-18T20:32:09.348175",
     "status": "completed"
    },
    "tags": []
   },
   "outputs": [
    {
     "data": {
      "text/html": [
       "<div>\n",
       "<style scoped>\n",
       "    .dataframe tbody tr th:only-of-type {\n",
       "        vertical-align: middle;\n",
       "    }\n",
       "\n",
       "    .dataframe tbody tr th {\n",
       "        vertical-align: top;\n",
       "    }\n",
       "\n",
       "    .dataframe thead th {\n",
       "        text-align: right;\n",
       "    }\n",
       "</style>\n",
       "<table border=\"1\" class=\"dataframe\">\n",
       "  <thead>\n",
       "    <tr style=\"text-align: right;\">\n",
       "      <th></th>\n",
       "      <th>cap-diameter</th>\n",
       "      <th>cap-shape</th>\n",
       "      <th>cap-color</th>\n",
       "      <th>does-bruise-or-bleed</th>\n",
       "      <th>gill-color</th>\n",
       "      <th>stem-height</th>\n",
       "      <th>stem-width</th>\n",
       "      <th>stem-color</th>\n",
       "      <th>has-ring</th>\n",
       "      <th>ring-type</th>\n",
       "      <th>habitat</th>\n",
       "      <th>season</th>\n",
       "      <th>class</th>\n",
       "    </tr>\n",
       "  </thead>\n",
       "  <tbody>\n",
       "    <tr>\n",
       "      <th>0</th>\n",
       "      <td>15.26</td>\n",
       "      <td>x</td>\n",
       "      <td>o</td>\n",
       "      <td>f</td>\n",
       "      <td>w</td>\n",
       "      <td>16.95</td>\n",
       "      <td>17.09</td>\n",
       "      <td>w</td>\n",
       "      <td>t</td>\n",
       "      <td>g</td>\n",
       "      <td>d</td>\n",
       "      <td>w</td>\n",
       "      <td>1</td>\n",
       "    </tr>\n",
       "    <tr>\n",
       "      <th>1</th>\n",
       "      <td>16.60</td>\n",
       "      <td>x</td>\n",
       "      <td>o</td>\n",
       "      <td>f</td>\n",
       "      <td>w</td>\n",
       "      <td>17.99</td>\n",
       "      <td>18.19</td>\n",
       "      <td>w</td>\n",
       "      <td>t</td>\n",
       "      <td>g</td>\n",
       "      <td>d</td>\n",
       "      <td>u</td>\n",
       "      <td>1</td>\n",
       "    </tr>\n",
       "    <tr>\n",
       "      <th>2</th>\n",
       "      <td>14.07</td>\n",
       "      <td>x</td>\n",
       "      <td>o</td>\n",
       "      <td>f</td>\n",
       "      <td>w</td>\n",
       "      <td>17.80</td>\n",
       "      <td>17.74</td>\n",
       "      <td>w</td>\n",
       "      <td>t</td>\n",
       "      <td>g</td>\n",
       "      <td>d</td>\n",
       "      <td>w</td>\n",
       "      <td>1</td>\n",
       "    </tr>\n",
       "  </tbody>\n",
       "</table>\n",
       "</div>"
      ],
      "text/plain": [
       "   cap-diameter cap-shape cap-color does-bruise-or-bleed gill-color  \\\n",
       "0         15.26         x         o                    f          w   \n",
       "1         16.60         x         o                    f          w   \n",
       "2         14.07         x         o                    f          w   \n",
       "\n",
       "   stem-height  stem-width stem-color has-ring ring-type habitat season  class  \n",
       "0        16.95       17.09          w        t         g       d      w      1  \n",
       "1        17.99       18.19          w        t         g       d      u      1  \n",
       "2        17.80       17.74          w        t         g       d      w      1  "
      ]
     },
     "execution_count": 6,
     "metadata": {},
     "output_type": "execute_result"
    }
   ],
   "source": [
    "data.head(3)"
   ]
  },
  {
   "cell_type": "code",
   "execution_count": 7,
   "id": "2b33b392",
   "metadata": {
    "execution": {
     "iopub.execute_input": "2024-12-18T20:32:09.390590Z",
     "iopub.status.busy": "2024-12-18T20:32:09.390166Z",
     "iopub.status.idle": "2024-12-18T20:32:09.458114Z",
     "shell.execute_reply": "2024-12-18T20:32:09.456345Z"
    },
    "papermill": {
     "duration": 0.077839,
     "end_time": "2024-12-18T20:32:09.461212",
     "exception": false,
     "start_time": "2024-12-18T20:32:09.383373",
     "status": "completed"
    },
    "tags": []
   },
   "outputs": [],
   "source": [
    "X_train, X_test, y_train, y_test = train_test_split(X.values, y.values, test_size=0.2, random_state=42)"
   ]
  },
  {
   "cell_type": "code",
   "execution_count": 8,
   "id": "2422078f",
   "metadata": {
    "execution": {
     "iopub.execute_input": "2024-12-18T20:32:09.474544Z",
     "iopub.status.busy": "2024-12-18T20:32:09.474088Z",
     "iopub.status.idle": "2024-12-18T20:32:09.504727Z",
     "shell.execute_reply": "2024-12-18T20:32:09.503483Z"
    },
    "papermill": {
     "duration": 0.040958,
     "end_time": "2024-12-18T20:32:09.507479",
     "exception": false,
     "start_time": "2024-12-18T20:32:09.466521",
     "status": "completed"
    },
    "tags": []
   },
   "outputs": [],
   "source": [
    "# Node class\n",
    "class Node:\n",
    "    def __init__(self, feature=None, threshold=None, left=None, right=None, value=None, categories=None):\n",
    "        self.feature = feature\n",
    "        self.threshold = threshold  # Numerical features\n",
    "        self.categories = categories  # Categorical features\n",
    "        self.left = left\n",
    "        self.right = right\n",
    "        self.value = value\n",
    "\n",
    "    def is_leaf_node(self):\n",
    "        return self.value is not None\n",
    "\n",
    "\n",
    "# Decision Tree class\n",
    "class DecisionTree:\n",
    "    def __init__(self, max_depth=config[\"max_depth\"], min_samples_split=config[\"min_samples_split\"], min_impurity_decrease=config[\"min_impurity_decrease\"], criterion=config[\"criterion\"]):\n",
    "        self.max_depth = max_depth\n",
    "        self.min_samples_split = min_samples_split\n",
    "        self.min_impurity_decrease = min_impurity_decrease\n",
    "        self.criterion = criterion\n",
    "        self.root = None\n",
    "\n",
    "    def fit(self, X, y):\n",
    "        self.root = self._build_tree(X, y, depth=0)\n",
    "\n",
    "    def predict(self, X):\n",
    "        return np.array([self._traverse_tree(x, self.root) for x in X])\n",
    "\n",
    "    def _build_tree(self, X, y, depth):\n",
    "        n_samples, n_features = X.shape\n",
    "        num_labels = len(np.unique(y))\n",
    "        # print(\"depth: \", depth)\n",
    "        # Stopping criteria\n",
    "        if depth >= self.max_depth or num_labels == 1 or n_samples < self.min_samples_split:\n",
    "            return Node(value=self._most_common_label(y))\n",
    "\n",
    "        # Find the best split\n",
    "        best_split = self._best_split(X, y)\n",
    "        if not best_split:  # No valid split found\n",
    "            return Node(value=self._most_common_label(y))\n",
    "\n",
    "        feature, threshold, categories, X_left, X_right, y_left, y_right, impurity_decrease = best_split\n",
    "\n",
    "        # Check impurity decrease criterion\n",
    "        if impurity_decrease < self.min_impurity_decrease:\n",
    "            return Node(value=self._most_common_label(y))\n",
    "\n",
    "        # Recursively build left and right subtrees\n",
    "        # print(\"creating left child in depth \", depth)\n",
    "        left_child = self._build_tree(X_left, y_left, depth + 1)\n",
    "        # print(\"finished left child in depth \", depth)\n",
    "        # print(\"creating right child in depth \", depth)\n",
    "        right_child = self._build_tree(X_right, y_right, depth + 1)\n",
    "        # print(\"finished right child in depth \", depth)\n",
    "        return Node(feature, threshold, left_child, right_child, categories=categories)\n",
    "\n",
    "    def _best_split(self, X, y):\n",
    "        # print(\"inside best_split\")\n",
    "        n_samples, n_features = X.shape\n",
    "        best_score = float(\"inf\")\n",
    "        best_split = None\n",
    "        current_impurity = self._calculate_criterion(y)\n",
    "    \n",
    "        for feature_idx in range(n_features):\n",
    "            feature_values = X[:, feature_idx]\n",
    "    \n",
    "            # Check for numerical or categorical feature\n",
    "            if np.issubdtype(type(feature_values[0]), np.float_):\n",
    "                # print(\"numeric feature\")\n",
    "                thresholds = np.unique(feature_values)\n",
    "                for threshold in thresholds:\n",
    "                    X_left, X_right, y_left, y_right = self._split_numeric(X, y, feature_idx, threshold)\n",
    "                    if len(y_left) == 0 or len(y_right) == 0:\n",
    "                        continue\n",
    "                    score = self._weighted_impurity(y_left, y_right)\n",
    "                    impurity_decrease = current_impurity - score\n",
    "                    if score < best_score:\n",
    "                        best_score = score\n",
    "                        best_split = (feature_idx, threshold, None, X_left, X_right, y_left, y_right, impurity_decrease)\n",
    "            else:\n",
    "                # Handle categorical features\n",
    "                # print(\"categorical feature\")\n",
    "                categories = np.unique(feature_values)\n",
    "                for subset in self._all_subsets(categories):\n",
    "                    X_left, X_right, y_left, y_right = self._split_categorical(X, y, feature_idx, subset)\n",
    "                    if len(y_left) == 0 or len(y_right) == 0:\n",
    "                        continue\n",
    "                    score = self._weighted_impurity(y_left, y_right)\n",
    "                    impurity_decrease = current_impurity - score\n",
    "                    if score < best_score:\n",
    "                        best_score = score\n",
    "                        best_split = (feature_idx, None, subset, X_left, X_right, y_left, y_right, impurity_decrease)\n",
    "        # print(\"new best split ...\")\n",
    "        return best_split\n",
    "\n",
    "    def _split_numeric(self, X, y, feature_idx, threshold):\n",
    "        left_idx = X[:, feature_idx] <= threshold\n",
    "        right_idx = X[:, feature_idx] > threshold\n",
    "        return X[left_idx], X[right_idx], y[left_idx], y[right_idx]\n",
    "\n",
    "    def _split_categorical(self, X, y, feature_idx, categories):\n",
    "        left_idx = np.isin(X[:, feature_idx], categories)\n",
    "        right_idx = ~left_idx\n",
    "        # print(\"feature idx:\", feature_idx , \"X[left_idx]\", X[left_idx, feature_idx], \"___\" ,\"X[right_idx]\", X[right_idx, feature_idx])\n",
    "        return X[left_idx], X[right_idx], y[left_idx], y[right_idx]\n",
    "\n",
    "    def _all_subsets(self, categories):\n",
    "        # Define subset size range\n",
    "        n_categories = len(categories)\n",
    "        min_size = max(1, n_categories // 2)  \n",
    "        max_size = max(1, int(n_categories * 0.8))  \n",
    "        subsets = []\n",
    "        random.shuffle(categories)\n",
    "    \n",
    "        # Generate subsets iteratively\n",
    "        for subset_size in range(min_size, max_size + 1):\n",
    "            for subset in combinations(categories, subset_size):\n",
    "                subsets.append(subset)\n",
    "                if len(subsets) == 5:\n",
    "                    return subsets\n",
    "        return subsets\n",
    "\n",
    "    def _weighted_impurity(self, y_left, y_right):\n",
    "        n = len(y_left) + len(y_right)\n",
    "        p_left, p_right = len(y_left) / n, len(y_right) / n\n",
    "        return p_left * self._calculate_criterion(y_left) + p_right * self._calculate_criterion(y_right)\n",
    "\n",
    "    def _calculate_criterion(self, y):\n",
    "        if self.criterion == \"gini\":\n",
    "            return self._gini(y)\n",
    "        elif self.criterion == \"entropy\":\n",
    "            return self._entropy(y)\n",
    "\n",
    "    def _gini(self, y):\n",
    "        class_counts = Counter(y.flatten() if isinstance(y, np.ndarray) else y)\n",
    "        impurity = 1\n",
    "        total_samples = len(y)\n",
    "        for cls in class_counts:\n",
    "            prob_of_cls = class_counts[cls] / total_samples\n",
    "            impurity -= prob_of_cls ** 2\n",
    "        return impurity\n",
    "\n",
    "    def _entropy(self, y):\n",
    "        class_counts = Counter(y.flatten() if isinstance(y, np.ndarray) else y)\n",
    "        total_samples = len(y)\n",
    "        entropy = 0\n",
    "        for cls in class_counts:\n",
    "            prob_of_cls = class_counts[cls] / total_samples\n",
    "            entropy -= prob_of_cls * np.log2(prob_of_cls + 1e-9)  # Adding a small value to prevent log(0)\n",
    "        return entropy\n",
    "    \n",
    "    def _most_common_label(self, y):\n",
    "        if isinstance(y, np.ndarray):\n",
    "            y = y.flatten()  \n",
    "        elif isinstance(y, pd.Series): \n",
    "            y = y.values.flatten()  \n",
    "        elif isinstance(y, pd.DataFrame):\n",
    "            y = y.squeeze()  \n",
    "        return Counter(y).most_common(1)[0][0]\n",
    "\n",
    "    def _traverse_tree(self, x, node):\n",
    "        if node.is_leaf_node():\n",
    "            return node.value\n",
    "        if node.categories is not None:  # Categorical feature\n",
    "            if x[node.feature] in node.categories:\n",
    "                return self._traverse_tree(x, node.left)\n",
    "            else:\n",
    "                return self._traverse_tree(x, node.right)\n",
    "        else:  # Numerical feature\n",
    "            if x[node.feature] <= node.threshold:\n",
    "                return self._traverse_tree(x, node.left)\n",
    "            else:\n",
    "                return self._traverse_tree(x, node.right)"
   ]
  },
  {
   "cell_type": "code",
   "execution_count": 9,
   "id": "d10845c6",
   "metadata": {
    "execution": {
     "iopub.execute_input": "2024-12-18T20:32:09.519574Z",
     "iopub.status.busy": "2024-12-18T20:32:09.519116Z",
     "iopub.status.idle": "2024-12-18T20:32:09.530490Z",
     "shell.execute_reply": "2024-12-18T20:32:09.529385Z"
    },
    "papermill": {
     "duration": 0.020418,
     "end_time": "2024-12-18T20:32:09.532993",
     "exception": false,
     "start_time": "2024-12-18T20:32:09.512575",
     "status": "completed"
    },
    "tags": []
   },
   "outputs": [],
   "source": [
    "def hyperparameter_tuning(X, y):\n",
    "\n",
    "    params = {\n",
    "        \"criterion\": [\"gini\", \"entropy\"],\n",
    "        \"max_depth\": range(8, 20),\n",
    "        \"min_samples_split\": [5],\n",
    "        \"min_impurity_decrease\": [0.01]\n",
    "    }\n",
    "\n",
    "    kf = KFold(n_splits=2, shuffle=True, random_state=42)\n",
    "    best_score = 0\n",
    "    results = []\n",
    "\n",
    "    for criterion in params[\"criterion\"]:\n",
    "        print(\"criterion: \", criterion)\n",
    "        for max_depth in params[\"max_depth\"]:\n",
    "            print(\"\\tmax_depth\", max_depth)\n",
    "            for min_samples_split in params[\"min_samples_split\"]:\n",
    "                print(\"\\t\\tmin_samples_split\", min_samples_split)\n",
    "                for min_impurity_decrease in params[\"min_impurity_decrease\"]:\n",
    "                    print(\"\\t\\t\\tmin_impurity_decrease\", min_impurity_decrease)\n",
    "                    cv_scores = []\n",
    "                    train_scores = []\n",
    "                    for fold, (train_index, val_index) in enumerate(kf.split(X), start=1):\n",
    "                        print(\"\\t\\t\\t\\tfold: \", fold)\n",
    "                        X_train, X_val = X[train_index], X[val_index]\n",
    "                        y_train, y_val = y[train_index], y[val_index]\n",
    "    \n",
    "                        tree = DecisionTree(\n",
    "                            max_depth=max_depth,\n",
    "                            min_samples_split=min_samples_split,\n",
    "                            min_impurity_decrease=min_impurity_decrease,\n",
    "                            criterion=criterion\n",
    "                        )\n",
    "                        tree.fit(X_train, y_train)\n",
    "    \n",
    "                        # Predict on validation set\n",
    "                        y_val_pred = tree.predict(X_val)\n",
    "                        val_accuracy = accuracy_score(y_val, y_val_pred)\n",
    "                        cv_scores.append(val_accuracy)\n",
    "    \n",
    "                        # Predict on training set\n",
    "                        y_train_pred = tree.predict(X_train)\n",
    "                        train_accuracy = accuracy_score(y_train, y_train_pred)\n",
    "                        train_scores.append(train_accuracy)\n",
    "                    \n",
    "\n",
    "                    avg_cv_score = np.mean(cv_scores)\n",
    "                    avg_train_score = np.mean(train_scores)\n",
    "    \n",
    "                    results.append((max_depth, min_samples_split, min_impurity_decrease, criterion, avg_cv_score, avg_train_score))\n",
    "    \n",
    "                    if avg_cv_score > best_score:\n",
    "                        best_score = avg_cv_score\n",
    "\n",
    "    return results"
   ]
  },
  {
   "cell_type": "code",
   "execution_count": 10,
   "id": "190fd0c1",
   "metadata": {
    "execution": {
     "iopub.execute_input": "2024-12-18T20:32:09.544458Z",
     "iopub.status.busy": "2024-12-18T20:32:09.544059Z",
     "iopub.status.idle": "2024-12-18T20:32:09.553547Z",
     "shell.execute_reply": "2024-12-18T20:32:09.552233Z"
    },
    "papermill": {
     "duration": 0.018607,
     "end_time": "2024-12-18T20:32:09.556553",
     "exception": false,
     "start_time": "2024-12-18T20:32:09.537946",
     "status": "completed"
    },
    "tags": []
   },
   "outputs": [
    {
     "name": "stdout",
     "output_type": "stream",
     "text": [
      "Cross validation option is set to False.\n"
     ]
    }
   ],
   "source": [
    "if config[\"do_cross_validation\"]:\n",
    "    results = hyperparameter_tuning(X_train, y_train)\n",
    "    results_df = pd.DataFrame(\n",
    "        results, columns=[\"max_depth\", \"min_samples_split\", \"min_impurity_decrease\", \"criterion\", \"cv_accuracy\", \"train_accuracy\"]\n",
    "    )\n",
    "    \n",
    "    # Creating x-axis label\n",
    "    results_df[\"params\"] = results_df.apply(\n",
    "        lambda row: f\"max_d={row['max_depth']}, min_s={row['min_samples_split']}, min_im={row['min_impurity_decrease']}, crit={row['criterion']}\",\n",
    "        axis=1\n",
    "    )\n",
    "    \n",
    "    # Plot cross-validation accuracy and training accuracy\n",
    "    plt.figure(figsize=(16, 8))\n",
    "    \n",
    "    # Plot cross-validation accuracy\n",
    "    plt.plot(results_df[\"params\"], results_df[\"cv_accuracy\"], marker='o', linestyle='-', color='blue', label=\"CV Accuracy (Validation dataset)\")\n",
    "    \n",
    "    # Plot training accuracy\n",
    "    plt.plot(results_df[\"params\"], results_df[\"train_accuracy\"], marker='x', linestyle='--', color='orange', label=\"Train Accuracy\")\n",
    "    \n",
    "    plt.title(\"Train and Cross-Validation Accuracy for Different Hyperparameter Combinations\")\n",
    "    plt.xlabel(\"Hyperparameter Combinations\")\n",
    "    plt.ylabel(\"Accuracy\")\n",
    "    plt.xticks(rotation=45, ha='right', fontsize=10)\n",
    "    plt.tight_layout()\n",
    "    plt.grid(True)\n",
    "    plt.legend()\n",
    "    plt.savefig('cross_validation.png')\n",
    "    plt.savefig('cross_validation.pdf')  \n",
    "    plt.show()\n",
    "else:\n",
    "    print(\"Cross validation option is set to False.\")"
   ]
  },
  {
   "cell_type": "code",
   "execution_count": 11,
   "id": "8a0fb051",
   "metadata": {
    "execution": {
     "iopub.execute_input": "2024-12-18T20:32:09.569006Z",
     "iopub.status.busy": "2024-12-18T20:32:09.568599Z",
     "iopub.status.idle": "2024-12-18T20:45:34.833039Z",
     "shell.execute_reply": "2024-12-18T20:45:34.831739Z"
    },
    "papermill": {
     "duration": 805.27773,
     "end_time": "2024-12-18T20:45:34.840181",
     "exception": false,
     "start_time": "2024-12-18T20:32:09.562451",
     "status": "completed"
    },
    "tags": []
   },
   "outputs": [
    {
     "name": "stdout",
     "output_type": "stream",
     "text": [
      "Training Accuracy: 0.9700\n",
      "Test Accuracy: 0.9624\n",
      "              precision    recall  f1-score   support\n",
      "\n",
      "           0       0.94      0.98      0.96      5103\n",
      "           1       0.98      0.95      0.97      6617\n",
      "\n",
      "    accuracy                           0.96     11720\n",
      "   macro avg       0.96      0.96      0.96     11720\n",
      "weighted avg       0.96      0.96      0.96     11720\n",
      "\n"
     ]
    }
   ],
   "source": [
    "# Initialize, fit, and evaluate\n",
    "tree = DecisionTree()\n",
    "tree.fit(X_train, y_train)\n",
    "\n",
    "# Calculate training accuracy\n",
    "y_train_pred = tree.predict(X_train)\n",
    "train_accuracy = accuracy_score(y_train, y_train_pred)\n",
    "print(f\"Training Accuracy: {train_accuracy:.4f}\")\n",
    "\n",
    "# Calculate test accuracy\n",
    "y_pred = tree.predict(X_test)\n",
    "accuracy = accuracy_score(y_test, y_pred)\n",
    "print(f\"Test Accuracy: {accuracy:.4f}\")\n",
    "print(classification_report(y_test, y_pred))\n"
   ]
  },
  {
   "cell_type": "code",
   "execution_count": 12,
   "id": "bff64bc9",
   "metadata": {
    "execution": {
     "iopub.execute_input": "2024-12-18T20:45:34.852633Z",
     "iopub.status.busy": "2024-12-18T20:45:34.851518Z",
     "iopub.status.idle": "2024-12-18T20:45:35.079625Z",
     "shell.execute_reply": "2024-12-18T20:45:35.078532Z"
    },
    "papermill": {
     "duration": 0.236732,
     "end_time": "2024-12-18T20:45:35.081898",
     "exception": false,
     "start_time": "2024-12-18T20:45:34.845166",
     "status": "completed"
    },
    "tags": []
   },
   "outputs": [
    {
     "name": "stdout",
     "output_type": "stream",
     "text": [
      "Training Error (0-1 Loss): 0.0300\n"
     ]
    }
   ],
   "source": [
    "def compute_training_error(tree, X_train, y_train):\n",
    "    y_pred = tree.predict(X_train) \n",
    "    y_train = y_train.flatten()\n",
    "    y_pred = y_pred.flatten()\n",
    "    misclassified = (y_pred != y_train).sum()  \n",
    "    total_instances = len(y_train)\n",
    "    training_error = misclassified / total_instances\n",
    "    return training_error\n",
    "\n",
    "\n",
    "training_error = compute_training_error(tree, X_train, y_train)\n",
    "print(f\"Training Error (0-1 Loss): {training_error:.4f}\")\n"
   ]
  }
 ],
 "metadata": {
  "kaggle": {
   "accelerator": "none",
   "dataSources": [],
   "dockerImageVersionId": 30786,
   "isGpuEnabled": false,
   "isInternetEnabled": true,
   "language": "python",
   "sourceType": "notebook"
  },
  "kernelspec": {
   "display_name": "Python 3",
   "language": "python",
   "name": "python3"
  },
  "language_info": {
   "codemirror_mode": {
    "name": "ipython",
    "version": 3
   },
   "file_extension": ".py",
   "mimetype": "text/x-python",
   "name": "python",
   "nbconvert_exporter": "python",
   "pygments_lexer": "ipython3",
   "version": "3.10.14"
  },
  "papermill": {
   "default_parameters": {},
   "duration": 828.496268,
   "end_time": "2024-12-18T20:45:35.809446",
   "environment_variables": {},
   "exception": null,
   "input_path": "__notebook__.ipynb",
   "output_path": "__notebook__.ipynb",
   "parameters": {},
   "start_time": "2024-12-18T20:31:47.313178",
   "version": "2.6.0"
  }
 },
 "nbformat": 4,
 "nbformat_minor": 5
}
